{
 "cells": [
  {
   "cell_type": "code",
   "execution_count": 8,
   "metadata": {},
   "outputs": [],
   "source": [
    "from pyspark.sql.functions import *\n",
    "from pyspark import SparkContext,SparkConf\n",
    "from pyspark.sql import SQLContext\n",
    "import csv\n",
    "from pyspark.sql import HiveContext, SparkSession"
   ]
  },
  {
   "cell_type": "code",
   "execution_count": 3,
   "metadata": {},
   "outputs": [],
   "source": [
    "conf=SparkConf().setAppName('Data Analysis Using SparkSQL')\n",
    "sc=SparkContext(conf=conf)"
   ]
  },
  {
   "cell_type": "code",
   "execution_count": 6,
   "metadata": {},
   "outputs": [],
   "source": [
    "#set the hive context\n",
    "hc=HiveContext(sc)\n",
    "hc.setConf(\"hive.metastore.uris\",\"thrift://METASTORE:9083\")"
   ]
  },
  {
   "cell_type": "code",
   "execution_count": 9,
   "metadata": {},
   "outputs": [],
   "source": [
    "#Start spark SQL Session \n",
    "sparksession=SparkSession.builder.appName('Using SQL').config('\"spark.some.config.option\",\"some-value\"').getOrCreate()"
   ]
  },
  {
   "cell_type": "code",
   "execution_count": 10,
   "metadata": {},
   "outputs": [],
   "source": [
    "#read csv and infer the schema so that it can be used to create table in Hive\n",
    "rcsv=sparksession.read.csv('Fake_data.csv',header=True,inferSchema=True)"
   ]
  },
  {
   "cell_type": "code",
   "execution_count": 11,
   "metadata": {},
   "outputs": [],
   "source": [
    "#register table into Hive to query in it\n",
    "rcsv.registerTempTable('tab')"
   ]
  },
  {
   "cell_type": "code",
   "execution_count": 12,
   "metadata": {},
   "outputs": [
    {
     "name": "stdout",
     "output_type": "stream",
     "text": [
      "\n",
      " Birth Country with highest people\n",
      "+--------------------+--------------------+\n",
      "|       Birth_Country|count(Birth_Country)|\n",
      "+--------------------+--------------------+\n",
      "|Svalbard & Jan Ma...|                  23|\n",
      "|Holy See (Vatican...|                  23|\n",
      "|             Ecuador|                  26|\n",
      "|    Pitcairn Islands|                  27|\n",
      "|             Romania|                  27|\n",
      "|Syrian Arab Republic|                  27|\n",
      "|           Singapore|                  28|\n",
      "|French Southern T...|                  29|\n",
      "|              Belize|                  29|\n",
      "|            Malaysia|                  30|\n",
      "|               Spain|                  30|\n",
      "|            Barbados|                  31|\n",
      "|             Bahamas|                  31|\n",
      "|              Zambia|                  31|\n",
      "|      Cayman Islands|                  31|\n",
      "|          Costa Rica|                  31|\n",
      "|              Jordan|                  31|\n",
      "|              Sweden|                  32|\n",
      "|             Namibia|                  32|\n",
      "|Sao Tome and Prin...|                  32|\n",
      "+--------------------+--------------------+\n",
      "only showing top 20 rows\n",
      "\n",
      "None\n"
     ]
    }
   ],
   "source": [
    "#1.Birth Country with highest people\n",
    "print('\\n Birth Country with highest people')\n",
    "ans=hc.sql(\"Select Birth_Country,count(Birth_Country) from tab group by Birth_Country order by count(Birth_Country)\")\n",
    "print(ans.show())"
   ]
  },
  {
   "cell_type": "code",
   "execution_count": 17,
   "metadata": {},
   "outputs": [
    {
     "name": "stdout",
     "output_type": "stream",
     "text": [
      "\n",
      " Average income of people who are born in USA\n",
      "+------------------+\n",
      "|       avg(income)|\n",
      "+------------------+\n",
      "|208759.82352941178|\n",
      "+------------------+\n",
      "\n",
      "None\n"
     ]
    }
   ],
   "source": [
    "#2.Find average income of people who are born in USA\n",
    "print(\"\\n Average income of people who are born in USA\")\n",
    "ans=hc.sql(\"select avg(income) from tab where Birth_Country='United States of America'\")\n",
    "print(ans.show())"
   ]
  },
  {
   "cell_type": "code",
   "execution_count": 20,
   "metadata": {},
   "outputs": [
    {
     "name": "stdout",
     "output_type": "stream",
     "text": [
      "\n",
      " People with income more than 100000 but loan not approved\n",
      "+----------+\n",
      "|count(SSN)|\n",
      "+----------+\n",
      "|      4009|\n",
      "+----------+\n",
      "\n",
      "None\n"
     ]
    }
   ],
   "source": [
    "#3.How many people have income more than 100000 but loan is not approved\n",
    "print(\"\\n People with income more than 100000 but loan not approved\")\n",
    "ans=hc.sql(\"select count(SSN) from tab where income >= 100000 and Loan_Approved==False \")\n",
    "print(ans.show())"
   ]
  },
  {
   "cell_type": "code",
   "execution_count": 21,
   "metadata": {},
   "outputs": [
    {
     "name": "stdout",
     "output_type": "stream",
     "text": [
      "\n",
      " Top 10 people with highest income in USA\n",
      "+----------+---------+\n",
      "|First_Name|Last_Name|\n",
      "+----------+---------+\n",
      "|    Alyssa|   Miller|\n",
      "|    Hunter|    Walls|\n",
      "|      Rose|Henderson|\n",
      "|  Danielle|  Leonard|\n",
      "|     Terry|    Klein|\n",
      "|     Cindy|   Newton|\n",
      "|     Scott| Mitchell|\n",
      "|   Christy| Sandoval|\n",
      "|     Kelly| Reynolds|\n",
      "|  Kristina|    Smith|\n",
      "+----------+---------+\n",
      "\n",
      "None\n"
     ]
    }
   ],
   "source": [
    "#4.Find top 10 people with highest income in USA\n",
    "print('\\n Top 10 people with highest income in USA')\n",
    "ans=hc.sql(\"select First_Name,Last_Name from tab where Birth_Country='United States of America' order by Income desc LIMIT 10\")\n",
    "print(ans.show())"
   ]
  },
  {
   "cell_type": "code",
   "execution_count": 22,
   "metadata": {},
   "outputs": [
    {
     "name": "stdout",
     "output_type": "stream",
     "text": [
      "\n",
      " Number of distinct jobs\n",
      "+-------------------+\n",
      "|count(DISTINCT Job)|\n",
      "+-------------------+\n",
      "|                639|\n",
      "+-------------------+\n",
      "\n",
      "None\n"
     ]
    }
   ],
   "source": [
    "#5.Number of distinct jobs\n",
    "print('\\n Number of distinct jobs')\n",
    "ans=hc.sql('select count(distinct Job) from Tab')\n",
    "print(ans.show())"
   ]
  },
  {
   "cell_type": "code",
   "execution_count": 23,
   "metadata": {},
   "outputs": [
    {
     "name": "stdout",
     "output_type": "stream",
     "text": [
      "\n",
      " Number of writers earn less than 100000\n",
      "+----------+\n",
      "|count(SSN)|\n",
      "+----------+\n",
      "|      2033|\n",
      "+----------+\n",
      "\n",
      "None\n"
     ]
    }
   ],
   "source": [
    "#6.How many writers earn less than 100000\n",
    "print('\\n Number of writers earn less than 100000')\n",
    "ans=hc.sql('select count(SSN) from tab where Income<100000')\n",
    "print(ans.show())"
   ]
  },
  {
   "cell_type": "code",
   "execution_count": 13,
   "metadata": {},
   "outputs": [],
   "source": [
    "sc.stop()"
   ]
  },
  {
   "cell_type": "code",
   "execution_count": null,
   "metadata": {},
   "outputs": [],
   "source": []
  }
 ],
 "metadata": {
  "kernelspec": {
   "display_name": "Python 3",
   "language": "python",
   "name": "python3"
  },
  "language_info": {
   "codemirror_mode": {
    "name": "ipython",
    "version": 3
   },
   "file_extension": ".py",
   "mimetype": "text/x-python",
   "name": "python",
   "nbconvert_exporter": "python",
   "pygments_lexer": "ipython3",
   "version": "3.6.4"
  }
 },
 "nbformat": 4,
 "nbformat_minor": 2
}
