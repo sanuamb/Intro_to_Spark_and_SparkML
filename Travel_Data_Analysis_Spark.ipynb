{
 "cells": [
  {
   "cell_type": "code",
   "execution_count": 2,
   "metadata": {},
   "outputs": [],
   "source": [
    "from pyspark import SparkConf,SparkContext"
   ]
  },
  {
   "cell_type": "code",
   "execution_count": 4,
   "metadata": {},
   "outputs": [],
   "source": [
    "conf=SparkConf().setAppName(\"Travel_Data_Analysis\")\n",
    "sc=SparkContext(conf=conf)"
   ]
  },
  {
   "cell_type": "code",
   "execution_count": 9,
   "metadata": {},
   "outputs": [
    {
     "name": "stdout",
     "output_type": "stream",
     "text": [
      "City_pair,From_location,To_Location,Product_type,Adults_traveling,Seniors_traveling,Children_traveling,Youth_traveling,Infant traveling,Date_of_travel,Time_of_travel,Date_of_Return,Time_of_Return,Price_of_booking,Airline_code,Airline,Hotel\n",
      "ZIH-ZIH,ZIH,ZIH,4,2,0,0,0,0,00:00.0,00:00.0,0,0,2003.199951,nan,nan,Viceroy Zihuatanejo\n",
      "ZIH-ZIH,ZIH,ZIH,4,2,0,0,0,0,00:00.0,00:00.0,0,0,1556.76,nan,nan,Capella Ixtapa Resort & Spa\n",
      "YYZ-YYZ,YYZ,YYZ,4,1,2,0,0,0,00:00.0,00:00.0,0,0,268.02,nan,nan,Hilton Hotel and Suites Niagara Falls/Fallsview\n",
      "YYZ-YYZ,YYZ,YYZ,4,1,2,0,0,0,00:00.0,00:00.0,0,0,674.36,nan,nan,Hilton Hotel and Suites Niagara Falls/Fallsview\n",
      "YYZ-YYZ,YYZ,YYZ,2,0,1,0,0,0,00:00.0,00:00.0,0,254.19,0,nan,nan,nan\n",
      "YYZ-YYZ,YYZ,YYZ,4,1,0,0,0,0,00:00.0,00:00.0,0,0,916.46,nan,nan,Hilton Suites Conference Centre and Spa\n",
      "YYC-YYC,YYC,YYC,4,1,0,0,0,0,00:00.0,00:00.0,0,0,903.36,nan,nan,Delta Bow Valley\n",
      "YYC-YYC,YYC,YYC,4,2,0,0,0,2,00:00.0,00:00.0,0,0,1107.14,nan,nan,The Rimrock Resort Hotel\n",
      "YVR-YYZ,YVR,YYZ,7,1,1,0,0,0,00:00.0,00:00.0,4351.4,176.85,238.14,AC,Air Canada,Comfort Hotel Airport North\n"
     ]
    }
   ],
   "source": [
    "#loading the data by creating rdd\n",
    "travelRdd=sc.textFile('TravelData.csv')\n",
    "for i in travelRdd.take(10):\n",
    "    print(i)"
   ]
  },
  {
   "cell_type": "markdown",
   "metadata": {},
   "source": [
    "### Top 10 Destinations people travel to"
   ]
  },
  {
   "cell_type": "code",
   "execution_count": 28,
   "metadata": {},
   "outputs": [],
   "source": [
    "#Do not include header in while reading rows\n",
    "header=travelRdd.first()\n",
    "travelnoheader=travelRdd.filter(lambda line:line!=header)"
   ]
  },
  {
   "cell_type": "code",
   "execution_count": 29,
   "metadata": {},
   "outputs": [],
   "source": [
    "#Map function to split the rows on comma\n",
    "travelsplit=travelnoheader.map(lambda row:row.split(','))"
   ]
  },
  {
   "cell_type": "code",
   "execution_count": 30,
   "metadata": {},
   "outputs": [],
   "source": [
    "#val,1 using map taking only destination column from the rows\n",
    "travelkeyval=travelsplit.map(lambda row:(row[2],1))\n",
    "#cnt of each key in the dataset applying reduceByKey\n",
    "travelcnt=travelkeyval.reduceByKey(lambda x,y:x+y)"
   ]
  },
  {
   "cell_type": "code",
   "execution_count": 36,
   "metadata": {},
   "outputs": [
    {
     "name": "stdout",
     "output_type": "stream",
     "text": [
      "[(396, 'MIA'), (290, 'SFO'), (202, 'LAS'), (162, 'LAX'), (102, 'DFW'), (64, 'DEN'), (57, 'ORD'), (54, 'PHL'), (50, 'IAH'), (45, 'JFK'), (44, 'PHX')]\n"
     ]
    }
   ],
   "source": [
    "#swap the key val pair and sortByKey\n",
    "travelswap=travelcnt.map(lambda x:(x[1],x[0]))\n",
    "travelsort=travelswap.sortByKey(0)\n",
    "finalrdd=travelsort.collect()\n",
    "print(finalrdd[:11])"
   ]
  },
  {
   "cell_type": "markdown",
   "metadata": {},
   "source": [
    "### Top 10 source people travel from"
   ]
  },
  {
   "cell_type": "code",
   "execution_count": 37,
   "metadata": {},
   "outputs": [],
   "source": [
    "#create key-val rdd\n",
    "travelkeyvals=travelsplit.map(lambda row:(row[1],1))"
   ]
  },
  {
   "cell_type": "code",
   "execution_count": 38,
   "metadata": {},
   "outputs": [],
   "source": [
    "#cnt each key \n",
    "travelcnts=travelkeyvals.reduceByKey(lambda x,y:x+y)"
   ]
  },
  {
   "cell_type": "code",
   "execution_count": 39,
   "metadata": {},
   "outputs": [
    {
     "name": "stdout",
     "output_type": "stream",
     "text": [
      "[(504, 'DFW'), (293, 'MIA'), (272, 'LAS'), (167, 'BOM'), (131, 'SFO'), (101, 'ORD'), (72, 'LAX'), (55, 'DEN'), (41, 'PHL'), (37, 'IAH')]\n"
     ]
    }
   ],
   "source": [
    "#swap the key val pair and sort\n",
    "travelswaps=travelcnts.map(lambda x:(x[1],x[0]))\n",
    "travelsorts=travelswaps.sortByKey(0)\n",
    "finalrdds=travelsorts.collect()\n",
    "print(finalrdds[:10])"
   ]
  },
  {
   "cell_type": "markdown",
   "metadata": {},
   "source": [
    "### Top 10 city pair people like to travel"
   ]
  },
  {
   "cell_type": "code",
   "execution_count": 41,
   "metadata": {},
   "outputs": [],
   "source": [
    "travelkeyvalc=travelsplit.map(lambda row:(row[0],1))\n",
    "travelcntc=travelkeyvalc.reduceByKey(lambda x,y:x+y)"
   ]
  },
  {
   "cell_type": "code",
   "execution_count": 42,
   "metadata": {},
   "outputs": [
    {
     "name": "stdout",
     "output_type": "stream",
     "text": [
      "[(160, 'MIA-MIA'), (132, 'DFW-SFO'), (77, 'LAS-LAX'), (75, 'DFW-MIA'), (74, 'LAS-MIA'), (69, 'LAS-LAS'), (65, 'SFO-SFO'), (41, 'PHL-PHL'), (35, 'LAX-LAX'), (32, 'BOM-SFO')]\n"
     ]
    }
   ],
   "source": [
    "travelswapc=travelcntc.map(lambda x:(x[1],x[0]))\n",
    "travelsortc=travelswapc.sortByKey(0)\n",
    "finalrddc=travelsortc.collect()\n",
    "print(finalrddc[:10])"
   ]
  },
  {
   "cell_type": "markdown",
   "metadata": {},
   "source": [
    "### Top 10 places from where people prefer travelling from their cars"
   ]
  },
  {
   "cell_type": "code",
   "execution_count": 52,
   "metadata": {},
   "outputs": [],
   "source": [
    "travelcarsplit=travelsplit.filter(lambda x:x[4]==\"2\")\n",
    "travelcar=travelcarsplit.map(lambda row:(row[1],1))"
   ]
  },
  {
   "cell_type": "code",
   "execution_count": 53,
   "metadata": {},
   "outputs": [],
   "source": [
    "cntcar=travelcar.reduceByKey(lambda x,y:x+y)"
   ]
  },
  {
   "cell_type": "code",
   "execution_count": 54,
   "metadata": {},
   "outputs": [
    {
     "name": "stdout",
     "output_type": "stream",
     "text": [
      "[(60, 'DFW'), (57, 'MIA'), (47, 'LAS'), (23, 'SFO'), (14, 'ORD'), (14, 'JFK'), (13, 'PHL'), (12, 'BOM'), (11, 'nan'), (7, 'PLS')]\n"
     ]
    }
   ],
   "source": [
    "#swap key-val \n",
    "swapcar=cntcar.map(lambda x:(x[1],x[0]))\n",
    "sortcar=swapcar.sortByKey(0)\n",
    "finalcar=sortcar.collect()\n",
    "print(finalcar[:10])"
   ]
  },
  {
   "cell_type": "markdown",
   "metadata": {},
   "source": [
    "### Top 10 cities that generate high airline revenue"
   ]
  },
  {
   "cell_type": "code",
   "execution_count": 55,
   "metadata": {},
   "outputs": [],
   "source": [
    "airlinerevsplit=travelsplit.filter(lambda x:x[4]==\"1\")\n",
    "airlinerev=airlinerevsplit.map(lambda row:(row[2],1))"
   ]
  },
  {
   "cell_type": "code",
   "execution_count": 56,
   "metadata": {},
   "outputs": [],
   "source": [
    "cntrev=airlinerev.reduceByKey(lambda x,y:x+y)"
   ]
  },
  {
   "cell_type": "code",
   "execution_count": 59,
   "metadata": {},
   "outputs": [
    {
     "name": "stdout",
     "output_type": "stream",
     "text": [
      "[(318, 'MIA'), (233, 'SFO'), (157, 'LAS'), (126, 'LAX'), (77, 'DFW'), (57, 'DEN'), (46, 'ORD'), (40, 'IAH'), (40, 'PHL'), (33, 'FLL')]\n"
     ]
    }
   ],
   "source": [
    "swaprev=cntrev.map(lambda x:(x[1],x[0]))\n",
    "sortrev=swaprev.sortByKey(0)\n",
    "finalairlinerev=sortrev.collect()\n",
    "print(finalairlinerev[:10])"
   ]
  },
  {
   "cell_type": "markdown",
   "metadata": {},
   "source": [
    "### Which hotels people visit more"
   ]
  },
  {
   "cell_type": "code",
   "execution_count": 62,
   "metadata": {},
   "outputs": [],
   "source": [
    "hotelrddfilter=travelsplit.filter(lambda x:x[16]!=\"nan\")\n",
    "hotelrdd=hotelrddfilter.map(lambda row:(row[16],1))"
   ]
  },
  {
   "cell_type": "code",
   "execution_count": 63,
   "metadata": {},
   "outputs": [
    {
     "name": "stdout",
     "output_type": "stream",
     "text": [
      "[(57, 'Ramada Hialeah/Miami Airport'), (34, 'LVH - Las Vegas Hotel & Casino'), (23, '\"Hotel Whitcomb'), (18, 'Four Seasons Hotel Philadelphia'), (16, 'Circus Circus Hotel & Casino'), (15, 'Best Western Plus Grosvenor Airport Hotel'), (15, '\"The Ritz-Carlton'), (13, 'DFW Airport Hotel & Conference Center'), (12, 'Days Hotel West Chester - Brandywine Valley'), (12, 'Four Seasons Hotel Miami'), (12, '\"Hotel Pepper Tree Anaheim'), (11, 'South Beach Hostel'), (11, 'Best Western Plus Garden Court Inn'), (10, 'Hilton Miami Airport'), (10, 'Holiday Inn Civic Center San Francisco'), (10, 'Howard Johnson Plaza Hotel Miami Airport'), (10, 'Sheraton Suites Galleria-Atlanta'), (9, 'Fontainebleau Miami Beach'), (9, 'Ramada Inn Miami Airport North'), (9, 'Renaissance Los Angeles Airport Hotel')]\n"
     ]
    }
   ],
   "source": [
    "cnthotel=hotelrdd.reduceByKey(lambda x,y:x+y)\n",
    "swaphotel=cnthotel.map(lambda x:(x[1],x[0]))\n",
    "sorthotel=swaphotel.sortByKey(0)\n",
    "finalhotellist=sorthotel.collect()\n",
    "print(finalhotellist[:20])"
   ]
  },
  {
   "cell_type": "markdown",
   "metadata": {},
   "source": [
    "### Which of the combinations do people prefer the most (Air+hotel or Hotel+Car or Air+Hotel+Car)"
   ]
  },
  {
   "cell_type": "code",
   "execution_count": 64,
   "metadata": {},
   "outputs": [
    {
     "name": "stdout",
     "output_type": "stream",
     "text": [
      "[(482, '5'), (367, '7'), (82, '6')]\n"
     ]
    }
   ],
   "source": [
    "comboprdt=travelsplit.filter(lambda x:x[3]==\"5\" or x[3]==\"6\" or x[3]==\"7\")\n",
    "combokeyval=comboprdt.map(lambda x:(x[3],1))\n",
    "combocnt=combokeyval.reduceByKey(lambda x,y:x+y)\n",
    "comboswap=combocnt.map(lambda x:(x[1],x[0]))\n",
    "combosort=comboswap.sortByKey(0)\n",
    "finalcombo=combosort.collect()\n",
    "print(finalcombo)"
   ]
  },
  {
   "cell_type": "markdown",
   "metadata": {},
   "source": [
    "### Which airlines people prefer to travel"
   ]
  },
  {
   "cell_type": "code",
   "execution_count": 66,
   "metadata": {},
   "outputs": [
    {
     "name": "stdout",
     "output_type": "stream",
     "text": [
      "[(304, 'Multiple Airlines'), (211, 'US Airways'), (185, 'United Airlines'), (182, 'Spirit Airlines'), (152, 'Delta Airlines'), (133, 'American Airlines'), (38, 'Frontier Airlines'), (23, 'JetBlue'), (18, 'British Airways'), (15, 'Etihad Airways'), (14, 'Virgin America'), (13, 'Qatar Airways'), (11, 'Air Canada'), (9, 'Turkish Airlines'), (8, 'Aeroflot'), (7, 'Alaska Airlines'), (4, 'Emirates'), (4, 'Lufthansa'), (3, 'TAM Airlines'), (3, 'Virgin Atlantic Airways'), (3, 'Aeromexico'), (3, 'Sun Country'), (2, 'Icelandair'), (2, 'Bangkok Airways'), (2, 'COPA'), (2, 'Air France'), (2, 'China Southern Airlines'), (1, 'LOT  Polish Airlines'), (1, 'SAS'), (1, 'airberlin'), (1, 'SWISS'), (1, 'Brussels Airlines'), (1, 'Jet Airways (India)'), (1, 'Air China Limited'), (1, 'LAN Airlines'), (1, 'Hainan Airlines'), (1, 'Singapore Airlines'), (1, 'Asiana Airlines'), (1, 'Royal Brunei Airlines'), (1, 'Gulf Air'), (1, 'Kuwait Airways'), (1, 'Air Sahara'), (1, 'Air India')]\n"
     ]
    }
   ],
   "source": [
    "airfilter=travelsplit.filter(lambda x:x[15]!='nan')\n",
    "airkeyval=airfilter.map(lambda x:(x[15],1))\n",
    "aircnt=airkeyval.reduceByKey(lambda x,y:x+y)\n",
    "airswap=aircnt.map(lambda x:(x[1],x[0]))\n",
    "airsort=airswap.sortByKey(0)\n",
    "finalair=airsort.collect()\n",
    "print(finalair)"
   ]
  },
  {
   "cell_type": "code",
   "execution_count": null,
   "metadata": {},
   "outputs": [],
   "source": []
  }
 ],
 "metadata": {
  "kernelspec": {
   "display_name": "Python 3",
   "language": "python",
   "name": "python3"
  },
  "language_info": {
   "codemirror_mode": {
    "name": "ipython",
    "version": 3
   },
   "file_extension": ".py",
   "mimetype": "text/x-python",
   "name": "python",
   "nbconvert_exporter": "python",
   "pygments_lexer": "ipython3",
   "version": "3.6.6"
  }
 },
 "nbformat": 4,
 "nbformat_minor": 2
}
