{
 "cells": [
  {
   "cell_type": "code",
   "execution_count": 13,
   "metadata": {},
   "outputs": [],
   "source": [
    "from pyspark import SparkContext,SparkConf\n",
    "from pyspark.sql import SparkSession\n",
    "from pyspark.sql import functions"
   ]
  },
  {
   "cell_type": "code",
   "execution_count": 2,
   "metadata": {},
   "outputs": [],
   "source": [
    "conf=SparkConf().setAppName('Spark DataFrames')\n",
    "sc=SparkContext(conf=conf)"
   ]
  },
  {
   "cell_type": "code",
   "execution_count": 3,
   "metadata": {},
   "outputs": [],
   "source": [
    "sparksession=SparkSession.builder.appName('DataFrames').config('\"spark.some.config.option\",\"some-value\"').getOrCreate()"
   ]
  },
  {
   "cell_type": "code",
   "execution_count": 4,
   "metadata": {},
   "outputs": [],
   "source": [
    "data=sparksession.read.csv('Fake_data.csv',header=True,inferSchema=True)"
   ]
  },
  {
   "cell_type": "code",
   "execution_count": 5,
   "metadata": {},
   "outputs": [
    {
     "name": "stdout",
     "output_type": "stream",
     "text": [
      "root\n",
      " |-- _c0: integer (nullable = true)\n",
      " |-- Birth_Country: string (nullable = true)\n",
      " |-- Email: string (nullable = true)\n",
      " |-- First_Name: string (nullable = true)\n",
      " |-- Income: integer (nullable = true)\n",
      " |-- Job: string (nullable = true)\n",
      " |-- Last_name: string (nullable = true)\n",
      " |-- Loan_Approved: boolean (nullable = true)\n",
      " |-- SSN: string (nullable = true)\n",
      "\n"
     ]
    }
   ],
   "source": [
    "data.printSchema()"
   ]
  },
  {
   "cell_type": "code",
   "execution_count": 10,
   "metadata": {},
   "outputs": [
    {
     "name": "stdout",
     "output_type": "stream",
     "text": [
      "\n",
      " Birth Country with highest people\n",
      "+--------------------+-----+\n",
      "|       Birth_Country|count|\n",
      "+--------------------+-----+\n",
      "|               Korea|   91|\n",
      "|               Congo|   84|\n",
      "|    Christmas Island|   57|\n",
      "|             Ireland|   55|\n",
      "|United Arab Emirates|   55|\n",
      "|        Saint Helena|   53|\n",
      "|               Egypt|   53|\n",
      "|         Puerto Rico|   52|\n",
      "|          Cape Verde|   52|\n",
      "|             Myanmar|   51|\n",
      "|            Thailand|   51|\n",
      "|       Liechtenstein|   51|\n",
      "|    French Polynesia|   51|\n",
      "|              Serbia|   51|\n",
      "|Heard Island and ...|   51|\n",
      "|             Eritrea|   51|\n",
      "|             Burundi|   50|\n",
      "|                Togo|   50|\n",
      "|              Gambia|   50|\n",
      "|               Yemen|   49|\n",
      "+--------------------+-----+\n",
      "only showing top 20 rows\n",
      "\n",
      "None\n"
     ]
    }
   ],
   "source": [
    "#1. Birth Country with highest people\n",
    "print('\\n Birth Country with highest people')\n",
    "print(data.groupBy('Birth_Country').count().orderBy('count',ascending=False).show())"
   ]
  },
  {
   "cell_type": "code",
   "execution_count": 27,
   "metadata": {},
   "outputs": [
    {
     "name": "stdout",
     "output_type": "stream",
     "text": [
      "\n",
      " Average income of people who are born in usa\n",
      "+------------------+\n",
      "|       avg(Income)|\n",
      "+------------------+\n",
      "|208759.82352941178|\n",
      "+------------------+\n",
      "\n",
      "None\n"
     ]
    }
   ],
   "source": [
    "#2.Avg income of people who are born in USA\n",
    "print('\\n Average income of people who are born in usa')\n",
    "print(data.filter(data['Birth_Country']=='United States of America').agg({\"Income\":\"avg\"}).show())"
   ]
  },
  {
   "cell_type": "code",
   "execution_count": 32,
   "metadata": {},
   "outputs": [
    {
     "name": "stdout",
     "output_type": "stream",
     "text": [
      "\n",
      " Number of people with income greater than 100000 but loan not approved\n",
      "4009\n"
     ]
    }
   ],
   "source": [
    "#3.How many people have income more than 100000 whose loan is not approved\n",
    "print('\\n Number of people with income greater than 100000 but loan not approved')\n",
    "print(data.filter((data['Income']>100000) &(data['Loan_Approved']==False)).count())"
   ]
  },
  {
   "cell_type": "code",
   "execution_count": 37,
   "metadata": {},
   "outputs": [
    {
     "name": "stdout",
     "output_type": "stream",
     "text": [
      "\n",
      " Top 10 people with highest income in USA\n",
      "+----------+---------+------+--------------------+\n",
      "|First_Name|Last_Name|Income|       Birth_Country|\n",
      "+----------+---------+------+--------------------+\n",
      "|    Alyssa|   Miller|482588|United States of ...|\n",
      "|    Hunter|    Walls|468946|United States of ...|\n",
      "|      Rose|Henderson|426115|United States of ...|\n",
      "|  Danielle|  Leonard|389810|United States of ...|\n",
      "|     Terry|    Klein|380410|United States of ...|\n",
      "|     Cindy|   Newton|370322|United States of ...|\n",
      "|     Scott| Mitchell|368913|United States of ...|\n",
      "|   Christy| Sandoval|355150|United States of ...|\n",
      "|     Kelly| Reynolds|341448|United States of ...|\n",
      "|  Kristina|    Smith|338804|United States of ...|\n",
      "+----------+---------+------+--------------------+\n",
      "\n",
      "None\n"
     ]
    }
   ],
   "source": [
    "#4.Find top 10 people with highest income in USA\n",
    "print('\\n Top 10 people with highest income in USA')\n",
    "\n",
    "print(data.select('First_Name','Last_Name','Income','Birth_Country').filter(data['Birth_Country']=='United States of America').orderBy(['Income'],ascending=False).limit(10).show())\n",
    "\n"
   ]
  },
  {
   "cell_type": "code",
   "execution_count": 39,
   "metadata": {},
   "outputs": [
    {
     "name": "stdout",
     "output_type": "stream",
     "text": [
      "Number of distinct jobs\n",
      "639\n"
     ]
    }
   ],
   "source": [
    "#5. Number of distinct jobs\n",
    "print('Number of distinct jobs')\n",
    "print(data.select('Job').distinct().count())"
   ]
  },
  {
   "cell_type": "code",
   "execution_count": 40,
   "metadata": {},
   "outputs": [
    {
     "name": "stdout",
     "output_type": "stream",
     "text": [
      "Number of writers earn less than 100000\n",
      "2033\n"
     ]
    }
   ],
   "source": [
    "#6. How many writers earn less than 100000\n",
    "print('Number of writers earn less than 100000')\n",
    "print(data.select('SSN','Income').filter(data['Income']<100000).count())"
   ]
  },
  {
   "cell_type": "code",
   "execution_count": 41,
   "metadata": {},
   "outputs": [],
   "source": [
    "sc.stop()"
   ]
  },
  {
   "cell_type": "code",
   "execution_count": null,
   "metadata": {},
   "outputs": [],
   "source": []
  }
 ],
 "metadata": {
  "kernelspec": {
   "display_name": "Python 3",
   "language": "python",
   "name": "python3"
  },
  "language_info": {
   "codemirror_mode": {
    "name": "ipython",
    "version": 3
   },
   "file_extension": ".py",
   "mimetype": "text/x-python",
   "name": "python",
   "nbconvert_exporter": "python",
   "pygments_lexer": "ipython3",
   "version": "3.6.6"
  }
 },
 "nbformat": 4,
 "nbformat_minor": 2
}
